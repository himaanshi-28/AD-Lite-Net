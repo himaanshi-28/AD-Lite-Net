{
 "cells": [
  {
   "cell_type": "markdown",
   "id": "e9c47087",
   "metadata": {
    "id": "trFRqFe0KC76",
    "papermill": {
     "duration": 0.016392,
     "end_time": "2021-11-29T22:23:30.769498",
     "exception": false,
     "start_time": "2021-11-29T22:23:30.753106",
     "status": "completed"
    },
    "tags": []
   },
   "source": [
    "# Simple Starter Notebook for;\n",
    "## Cryptocurrency Closing Price Prediction Challenge\n",
    "\n",
    "\n",
    "Can you predict the closing price for a cryptocurrency? \n",
    "\n",
    "The objective of this challenge is to create a machine learning model that will predict closing price for a crypto currency coing. "
   ]
  },
  {
   "cell_type": "code",
   "execution_count": 1,
   "id": "ca482163",
   "metadata": {
    "execution": {
     "iopub.execute_input": "2021-11-29T22:23:30.817211Z",
     "iopub.status.busy": "2021-11-29T22:23:30.816424Z",
     "iopub.status.idle": "2021-11-29T22:23:31.922170Z",
     "shell.execute_reply": "2021-11-29T22:23:31.921355Z",
     "shell.execute_reply.started": "2021-11-29T22:12:15.645845Z"
    },
    "id": "YBArGtJwFzwO",
    "papermill": {
     "duration": 1.136418,
     "end_time": "2021-11-29T22:23:31.922358",
     "exception": false,
     "start_time": "2021-11-29T22:23:30.785940",
     "status": "completed"
    },
    "tags": []
   },
   "outputs": [],
   "source": [
    "# Import libraries\n",
    "import pandas as pd\n",
    "import numpy as np\n",
    "import matplotlib.pyplot as plt\n",
    "from sklearn.model_selection import train_test_split\n",
    "from sklearn.linear_model import LinearRegression\n"
   ]
  },
  {
   "cell_type": "code",
   "execution_count": 2,
   "id": "b67ef56d",
   "metadata": {
    "execution": {
     "iopub.execute_input": "2021-11-29T22:23:31.966213Z",
     "iopub.status.busy": "2021-11-29T22:23:31.965497Z",
     "iopub.status.idle": "2021-11-29T22:23:32.155440Z",
     "shell.execute_reply": "2021-11-29T22:23:32.154215Z",
     "shell.execute_reply.started": "2021-11-29T22:12:16.6193Z"
    },
    "id": "A1Nlsw9lGHTB",
    "papermill": {
     "duration": 0.213632,
     "end_time": "2021-11-29T22:23:32.155715",
     "exception": false,
     "start_time": "2021-11-29T22:23:31.942083",
     "status": "completed"
    },
    "tags": []
   },
   "outputs": [],
   "source": [
    "# Load files\n",
    "train = pd.read_csv('../input/cryptocurrency-price-prediction/train.csv')\n",
    "test = pd.read_csv('../input/cryptocurrency-price-prediction/test.csv')\n",
    "ss = pd.read_csv('../input/cryptocurrency-price-prediction/sample_submission.csv')"
   ]
  },
  {
   "cell_type": "code",
   "execution_count": 3,
   "id": "95fa397e",
   "metadata": {
    "execution": {
     "iopub.execute_input": "2021-11-29T22:23:32.206948Z",
     "iopub.status.busy": "2021-11-29T22:23:32.205953Z",
     "iopub.status.idle": "2021-11-29T22:23:32.210144Z",
     "shell.execute_reply": "2021-11-29T22:23:32.210700Z",
     "shell.execute_reply.started": "2021-11-29T22:12:16.787378Z"
    },
    "id": "a7Jni6DMGVKd",
    "outputId": "7692dde0-9048-47e3-8741-8f091e74e4c2",
    "papermill": {
     "duration": 0.036612,
     "end_time": "2021-11-29T22:23:32.210886",
     "exception": false,
     "start_time": "2021-11-29T22:23:32.174274",
     "status": "completed"
    },
    "tags": []
   },
   "outputs": [
    {
     "data": {
      "text/plain": [
       "((9000, 49), (2518, 48), (2518, 2))"
      ]
     },
     "execution_count": 3,
     "metadata": {},
     "output_type": "execute_result"
    }
   ],
   "source": [
    "# check data shapes\n",
    "train.shape, test.shape, ss.shape"
   ]
  },
  {
   "cell_type": "code",
   "execution_count": 4,
   "id": "26e47ebd",
   "metadata": {
    "execution": {
     "iopub.execute_input": "2021-11-29T22:23:32.254372Z",
     "iopub.status.busy": "2021-11-29T22:23:32.253642Z",
     "iopub.status.idle": "2021-11-29T22:23:32.288270Z",
     "shell.execute_reply": "2021-11-29T22:23:32.287676Z",
     "shell.execute_reply.started": "2021-11-29T22:12:16.796683Z"
    },
    "id": "LRHncK2pHSmR",
    "outputId": "34a61eeb-c796-4468-dfd7-0b81f463960d",
    "papermill": {
     "duration": 0.059758,
     "end_time": "2021-11-29T22:23:32.288413",
     "exception": false,
     "start_time": "2021-11-29T22:23:32.228655",
     "status": "completed"
    },
    "tags": []
   },
   "outputs": [
    {
     "data": {
      "text/html": [
       "<div>\n",
       "<style scoped>\n",
       "    .dataframe tbody tr th:only-of-type {\n",
       "        vertical-align: middle;\n",
       "    }\n",
       "\n",
       "    .dataframe tbody tr th {\n",
       "        vertical-align: top;\n",
       "    }\n",
       "\n",
       "    .dataframe thead th {\n",
       "        text-align: right;\n",
       "    }\n",
       "</style>\n",
       "<table border=\"1\" class=\"dataframe\">\n",
       "  <thead>\n",
       "    <tr style=\"text-align: right;\">\n",
       "      <th></th>\n",
       "      <th>id</th>\n",
       "      <th>asset_id</th>\n",
       "      <th>open</th>\n",
       "      <th>high</th>\n",
       "      <th>low</th>\n",
       "      <th>volume</th>\n",
       "      <th>market_cap</th>\n",
       "      <th>url_shares</th>\n",
       "      <th>unique_url_shares</th>\n",
       "      <th>reddit_posts</th>\n",
       "      <th>...</th>\n",
       "      <th>percent_change_24h_rank</th>\n",
       "      <th>volume_24h_rank</th>\n",
       "      <th>social_volume_24h_rank</th>\n",
       "      <th>social_score_24h_rank</th>\n",
       "      <th>medium</th>\n",
       "      <th>youtube</th>\n",
       "      <th>social_volume</th>\n",
       "      <th>percent_change_24h</th>\n",
       "      <th>market_cap_global</th>\n",
       "      <th>close</th>\n",
       "    </tr>\n",
       "  </thead>\n",
       "  <tbody>\n",
       "    <tr>\n",
       "      <th>0</th>\n",
       "      <td>ID_322qz6</td>\n",
       "      <td>1</td>\n",
       "      <td>9422.849081</td>\n",
       "      <td>9428.490628</td>\n",
       "      <td>9422.849081</td>\n",
       "      <td>7.131986e+08</td>\n",
       "      <td>1.737635e+11</td>\n",
       "      <td>1689.0</td>\n",
       "      <td>817.0</td>\n",
       "      <td>55.0</td>\n",
       "      <td>...</td>\n",
       "      <td>606.0</td>\n",
       "      <td>2.0</td>\n",
       "      <td>1.0</td>\n",
       "      <td>1.0</td>\n",
       "      <td>2.0</td>\n",
       "      <td>5.0</td>\n",
       "      <td>4422</td>\n",
       "      <td>1.434516</td>\n",
       "      <td>2.818066e+11</td>\n",
       "      <td>9428.279323</td>\n",
       "    </tr>\n",
       "    <tr>\n",
       "      <th>1</th>\n",
       "      <td>ID_3239o9</td>\n",
       "      <td>1</td>\n",
       "      <td>7985.359278</td>\n",
       "      <td>7992.059917</td>\n",
       "      <td>7967.567267</td>\n",
       "      <td>4.004755e+08</td>\n",
       "      <td>1.426942e+11</td>\n",
       "      <td>920.0</td>\n",
       "      <td>544.0</td>\n",
       "      <td>20.0</td>\n",
       "      <td>...</td>\n",
       "      <td>NaN</td>\n",
       "      <td>NaN</td>\n",
       "      <td>NaN</td>\n",
       "      <td>NaN</td>\n",
       "      <td>NaN</td>\n",
       "      <td>NaN</td>\n",
       "      <td>2159</td>\n",
       "      <td>-2.459507</td>\n",
       "      <td>2.126897e+11</td>\n",
       "      <td>7967.567267</td>\n",
       "    </tr>\n",
       "    <tr>\n",
       "      <th>2</th>\n",
       "      <td>ID_323J9k</td>\n",
       "      <td>1</td>\n",
       "      <td>49202.033778</td>\n",
       "      <td>49394.593518</td>\n",
       "      <td>49068.057046</td>\n",
       "      <td>3.017729e+09</td>\n",
       "      <td>9.166977e+11</td>\n",
       "      <td>1446.0</td>\n",
       "      <td>975.0</td>\n",
       "      <td>72.0</td>\n",
       "      <td>...</td>\n",
       "      <td>692.0</td>\n",
       "      <td>3.0</td>\n",
       "      <td>1.0</td>\n",
       "      <td>1.0</td>\n",
       "      <td>NaN</td>\n",
       "      <td>NaN</td>\n",
       "      <td>10602</td>\n",
       "      <td>4.942448</td>\n",
       "      <td>1.530712e+12</td>\n",
       "      <td>49120.738484</td>\n",
       "    </tr>\n",
       "    <tr>\n",
       "      <th>3</th>\n",
       "      <td>ID_323y5P</td>\n",
       "      <td>1</td>\n",
       "      <td>NaN</td>\n",
       "      <td>NaN</td>\n",
       "      <td>NaN</td>\n",
       "      <td>NaN</td>\n",
       "      <td>NaN</td>\n",
       "      <td>NaN</td>\n",
       "      <td>NaN</td>\n",
       "      <td>17.0</td>\n",
       "      <td>...</td>\n",
       "      <td>NaN</td>\n",
       "      <td>NaN</td>\n",
       "      <td>NaN</td>\n",
       "      <td>NaN</td>\n",
       "      <td>NaN</td>\n",
       "      <td>NaN</td>\n",
       "      <td>285</td>\n",
       "      <td>NaN</td>\n",
       "      <td>NaN</td>\n",
       "      <td>NaN</td>\n",
       "    </tr>\n",
       "    <tr>\n",
       "      <th>4</th>\n",
       "      <td>ID_324kJH</td>\n",
       "      <td>1</td>\n",
       "      <td>10535.737119</td>\n",
       "      <td>10535.737119</td>\n",
       "      <td>10384.798216</td>\n",
       "      <td>1.150053e+09</td>\n",
       "      <td>1.921183e+11</td>\n",
       "      <td>1012.0</td>\n",
       "      <td>638.0</td>\n",
       "      <td>24.0</td>\n",
       "      <td>...</td>\n",
       "      <td>749.0</td>\n",
       "      <td>2.0</td>\n",
       "      <td>1.0</td>\n",
       "      <td>1.0</td>\n",
       "      <td>NaN</td>\n",
       "      <td>2.0</td>\n",
       "      <td>3996</td>\n",
       "      <td>2.609576</td>\n",
       "      <td>3.386925e+11</td>\n",
       "      <td>10384.798216</td>\n",
       "    </tr>\n",
       "  </tbody>\n",
       "</table>\n",
       "<p>5 rows × 49 columns</p>\n",
       "</div>"
      ],
      "text/plain": [
       "          id  asset_id          open          high           low  \\\n",
       "0  ID_322qz6         1   9422.849081   9428.490628   9422.849081   \n",
       "1  ID_3239o9         1   7985.359278   7992.059917   7967.567267   \n",
       "2  ID_323J9k         1  49202.033778  49394.593518  49068.057046   \n",
       "3  ID_323y5P         1           NaN           NaN           NaN   \n",
       "4  ID_324kJH         1  10535.737119  10535.737119  10384.798216   \n",
       "\n",
       "         volume    market_cap  url_shares  unique_url_shares  reddit_posts  \\\n",
       "0  7.131986e+08  1.737635e+11      1689.0              817.0          55.0   \n",
       "1  4.004755e+08  1.426942e+11       920.0              544.0          20.0   \n",
       "2  3.017729e+09  9.166977e+11      1446.0              975.0          72.0   \n",
       "3           NaN           NaN         NaN                NaN          17.0   \n",
       "4  1.150053e+09  1.921183e+11      1012.0              638.0          24.0   \n",
       "\n",
       "   ...  percent_change_24h_rank  volume_24h_rank  social_volume_24h_rank  \\\n",
       "0  ...                    606.0              2.0                     1.0   \n",
       "1  ...                      NaN              NaN                     NaN   \n",
       "2  ...                    692.0              3.0                     1.0   \n",
       "3  ...                      NaN              NaN                     NaN   \n",
       "4  ...                    749.0              2.0                     1.0   \n",
       "\n",
       "   social_score_24h_rank  medium  youtube  social_volume  percent_change_24h  \\\n",
       "0                    1.0     2.0      5.0           4422            1.434516   \n",
       "1                    NaN     NaN      NaN           2159           -2.459507   \n",
       "2                    1.0     NaN      NaN          10602            4.942448   \n",
       "3                    NaN     NaN      NaN            285                 NaN   \n",
       "4                    1.0     NaN      2.0           3996            2.609576   \n",
       "\n",
       "   market_cap_global         close  \n",
       "0       2.818066e+11   9428.279323  \n",
       "1       2.126897e+11   7967.567267  \n",
       "2       1.530712e+12  49120.738484  \n",
       "3                NaN           NaN  \n",
       "4       3.386925e+11  10384.798216  \n",
       "\n",
       "[5 rows x 49 columns]"
      ]
     },
     "execution_count": 4,
     "metadata": {},
     "output_type": "execute_result"
    }
   ],
   "source": [
    "# Preview train\n",
    "train.head()"
   ]
  },
  {
   "cell_type": "code",
   "execution_count": 5,
   "id": "bf0bc40a",
   "metadata": {
    "execution": {
     "iopub.execute_input": "2021-11-29T22:23:32.325643Z",
     "iopub.status.busy": "2021-11-29T22:23:32.324533Z",
     "iopub.status.idle": "2021-11-29T22:23:32.353797Z",
     "shell.execute_reply": "2021-11-29T22:23:32.354345Z",
     "shell.execute_reply.started": "2021-11-29T22:12:16.840057Z"
    },
    "id": "7miwQ34Jcpbz",
    "outputId": "a7c4f474-e0a2-4a31-b789-6d1f43eca16f",
    "papermill": {
     "duration": 0.049747,
     "end_time": "2021-11-29T22:23:32.354538",
     "exception": false,
     "start_time": "2021-11-29T22:23:32.304791",
     "status": "completed"
    },
    "tags": []
   },
   "outputs": [
    {
     "data": {
      "text/html": [
       "<div>\n",
       "<style scoped>\n",
       "    .dataframe tbody tr th:only-of-type {\n",
       "        vertical-align: middle;\n",
       "    }\n",
       "\n",
       "    .dataframe tbody tr th {\n",
       "        vertical-align: top;\n",
       "    }\n",
       "\n",
       "    .dataframe thead th {\n",
       "        text-align: right;\n",
       "    }\n",
       "</style>\n",
       "<table border=\"1\" class=\"dataframe\">\n",
       "  <thead>\n",
       "    <tr style=\"text-align: right;\">\n",
       "      <th></th>\n",
       "      <th>id</th>\n",
       "      <th>asset_id</th>\n",
       "      <th>open</th>\n",
       "      <th>high</th>\n",
       "      <th>low</th>\n",
       "      <th>volume</th>\n",
       "      <th>market_cap</th>\n",
       "      <th>url_shares</th>\n",
       "      <th>unique_url_shares</th>\n",
       "      <th>reddit_posts</th>\n",
       "      <th>...</th>\n",
       "      <th>market_cap_rank</th>\n",
       "      <th>percent_change_24h_rank</th>\n",
       "      <th>volume_24h_rank</th>\n",
       "      <th>social_volume_24h_rank</th>\n",
       "      <th>social_score_24h_rank</th>\n",
       "      <th>medium</th>\n",
       "      <th>youtube</th>\n",
       "      <th>social_volume</th>\n",
       "      <th>percent_change_24h</th>\n",
       "      <th>market_cap_global</th>\n",
       "    </tr>\n",
       "  </thead>\n",
       "  <tbody>\n",
       "    <tr>\n",
       "      <th>0</th>\n",
       "      <td>ID_JZZnaV</td>\n",
       "      <td>1</td>\n",
       "      <td>49101.830017</td>\n",
       "      <td>49145.590922</td>\n",
       "      <td>48679.101583</td>\n",
       "      <td>2.586587e+09</td>\n",
       "      <td>9.102587e+11</td>\n",
       "      <td>1547.0</td>\n",
       "      <td>899.0</td>\n",
       "      <td>73.0</td>\n",
       "      <td>...</td>\n",
       "      <td>1.0</td>\n",
       "      <td>515.0</td>\n",
       "      <td>3.0</td>\n",
       "      <td>1.0</td>\n",
       "      <td>1.0</td>\n",
       "      <td>1.0</td>\n",
       "      <td>NaN</td>\n",
       "      <td>10795</td>\n",
       "      <td>3.242141</td>\n",
       "      <td>1.513141e+12</td>\n",
       "    </tr>\n",
       "    <tr>\n",
       "      <th>1</th>\n",
       "      <td>ID_JZdah4</td>\n",
       "      <td>1</td>\n",
       "      <td>7084.506369</td>\n",
       "      <td>7114.741926</td>\n",
       "      <td>7084.506369</td>\n",
       "      <td>1.748354e+09</td>\n",
       "      <td>1.304944e+11</td>\n",
       "      <td>1078.0</td>\n",
       "      <td>644.0</td>\n",
       "      <td>37.0</td>\n",
       "      <td>...</td>\n",
       "      <td>1.0</td>\n",
       "      <td>987.0</td>\n",
       "      <td>2.0</td>\n",
       "      <td>1.0</td>\n",
       "      <td>1.0</td>\n",
       "      <td>NaN</td>\n",
       "      <td>4.0</td>\n",
       "      <td>4384</td>\n",
       "      <td>-1.635662</td>\n",
       "      <td>2.058684e+11</td>\n",
       "    </tr>\n",
       "    <tr>\n",
       "      <th>2</th>\n",
       "      <td>ID_Jb3VHp</td>\n",
       "      <td>1</td>\n",
       "      <td>7391.081815</td>\n",
       "      <td>7391.081815</td>\n",
       "      <td>7380.118544</td>\n",
       "      <td>7.354032e+08</td>\n",
       "      <td>1.339929e+11</td>\n",
       "      <td>649.0</td>\n",
       "      <td>444.0</td>\n",
       "      <td>16.0</td>\n",
       "      <td>...</td>\n",
       "      <td>1.0</td>\n",
       "      <td>768.0</td>\n",
       "      <td>2.0</td>\n",
       "      <td>1.0</td>\n",
       "      <td>1.0</td>\n",
       "      <td>NaN</td>\n",
       "      <td>NaN</td>\n",
       "      <td>3196</td>\n",
       "      <td>0.990546</td>\n",
       "      <td>1.961920e+11</td>\n",
       "    </tr>\n",
       "    <tr>\n",
       "      <th>3</th>\n",
       "      <td>ID_Jc4znH</td>\n",
       "      <td>1</td>\n",
       "      <td>8020.452275</td>\n",
       "      <td>8022.211041</td>\n",
       "      <td>8009.023477</td>\n",
       "      <td>4.651574e+08</td>\n",
       "      <td>1.458924e+11</td>\n",
       "      <td>830.0</td>\n",
       "      <td>571.0</td>\n",
       "      <td>19.0</td>\n",
       "      <td>...</td>\n",
       "      <td>1.0</td>\n",
       "      <td>426.0</td>\n",
       "      <td>2.0</td>\n",
       "      <td>1.0</td>\n",
       "      <td>1.0</td>\n",
       "      <td>NaN</td>\n",
       "      <td>NaN</td>\n",
       "      <td>3422</td>\n",
       "      <td>4.280879</td>\n",
       "      <td>2.139004e+11</td>\n",
       "    </tr>\n",
       "    <tr>\n",
       "      <th>4</th>\n",
       "      <td>ID_Jc7U7d</td>\n",
       "      <td>1</td>\n",
       "      <td>10767.128491</td>\n",
       "      <td>10767.128491</td>\n",
       "      <td>10759.926010</td>\n",
       "      <td>6.156260e+08</td>\n",
       "      <td>1.989619e+11</td>\n",
       "      <td>1981.0</td>\n",
       "      <td>952.0</td>\n",
       "      <td>79.0</td>\n",
       "      <td>...</td>\n",
       "      <td>1.0</td>\n",
       "      <td>968.0</td>\n",
       "      <td>2.0</td>\n",
       "      <td>1.0</td>\n",
       "      <td>1.0</td>\n",
       "      <td>1.0</td>\n",
       "      <td>1.0</td>\n",
       "      <td>4499</td>\n",
       "      <td>-1.016267</td>\n",
       "      <td>3.475088e+11</td>\n",
       "    </tr>\n",
       "  </tbody>\n",
       "</table>\n",
       "<p>5 rows × 48 columns</p>\n",
       "</div>"
      ],
      "text/plain": [
       "          id  asset_id          open          high           low  \\\n",
       "0  ID_JZZnaV         1  49101.830017  49145.590922  48679.101583   \n",
       "1  ID_JZdah4         1   7084.506369   7114.741926   7084.506369   \n",
       "2  ID_Jb3VHp         1   7391.081815   7391.081815   7380.118544   \n",
       "3  ID_Jc4znH         1   8020.452275   8022.211041   8009.023477   \n",
       "4  ID_Jc7U7d         1  10767.128491  10767.128491  10759.926010   \n",
       "\n",
       "         volume    market_cap  url_shares  unique_url_shares  reddit_posts  \\\n",
       "0  2.586587e+09  9.102587e+11      1547.0              899.0          73.0   \n",
       "1  1.748354e+09  1.304944e+11      1078.0              644.0          37.0   \n",
       "2  7.354032e+08  1.339929e+11       649.0              444.0          16.0   \n",
       "3  4.651574e+08  1.458924e+11       830.0              571.0          19.0   \n",
       "4  6.156260e+08  1.989619e+11      1981.0              952.0          79.0   \n",
       "\n",
       "   ...  market_cap_rank  percent_change_24h_rank  volume_24h_rank  \\\n",
       "0  ...              1.0                    515.0              3.0   \n",
       "1  ...              1.0                    987.0              2.0   \n",
       "2  ...              1.0                    768.0              2.0   \n",
       "3  ...              1.0                    426.0              2.0   \n",
       "4  ...              1.0                    968.0              2.0   \n",
       "\n",
       "   social_volume_24h_rank  social_score_24h_rank  medium  youtube  \\\n",
       "0                     1.0                    1.0     1.0      NaN   \n",
       "1                     1.0                    1.0     NaN      4.0   \n",
       "2                     1.0                    1.0     NaN      NaN   \n",
       "3                     1.0                    1.0     NaN      NaN   \n",
       "4                     1.0                    1.0     1.0      1.0   \n",
       "\n",
       "   social_volume  percent_change_24h  market_cap_global  \n",
       "0          10795            3.242141       1.513141e+12  \n",
       "1           4384           -1.635662       2.058684e+11  \n",
       "2           3196            0.990546       1.961920e+11  \n",
       "3           3422            4.280879       2.139004e+11  \n",
       "4           4499           -1.016267       3.475088e+11  \n",
       "\n",
       "[5 rows x 48 columns]"
      ]
     },
     "execution_count": 5,
     "metadata": {},
     "output_type": "execute_result"
    }
   ],
   "source": [
    "test.head()"
   ]
  },
  {
   "cell_type": "code",
   "execution_count": 6,
   "id": "be203a7d",
   "metadata": {
    "execution": {
     "iopub.execute_input": "2021-11-29T22:23:32.393204Z",
     "iopub.status.busy": "2021-11-29T22:23:32.392215Z",
     "iopub.status.idle": "2021-11-29T22:23:32.399922Z",
     "shell.execute_reply": "2021-11-29T22:23:32.400400Z",
     "shell.execute_reply.started": "2021-11-29T22:12:16.87404Z"
    },
    "papermill": {
     "duration": 0.029145,
     "end_time": "2021-11-29T22:23:32.400589",
     "exception": false,
     "start_time": "2021-11-29T22:23:32.371444",
     "status": "completed"
    },
    "tags": []
   },
   "outputs": [
    {
     "data": {
      "text/plain": [
       "id                          object\n",
       "asset_id                     int64\n",
       "open                       float64\n",
       "high                       float64\n",
       "low                        float64\n",
       "volume                     float64\n",
       "market_cap                 float64\n",
       "url_shares                 float64\n",
       "unique_url_shares          float64\n",
       "reddit_posts               float64\n",
       "reddit_posts_score         float64\n",
       "reddit_comments            float64\n",
       "reddit_comments_score      float64\n",
       "tweets                     float64\n",
       "tweet_spam                 float64\n",
       "tweet_followers            float64\n",
       "tweet_quotes               float64\n",
       "tweet_retweets             float64\n",
       "tweet_replies              float64\n",
       "tweet_favorites            float64\n",
       "tweet_sentiment1           float64\n",
       "tweet_sentiment2           float64\n",
       "tweet_sentiment3           float64\n",
       "tweet_sentiment4           float64\n",
       "tweet_sentiment5           float64\n",
       "tweet_sentiment_impact1    float64\n",
       "tweet_sentiment_impact2    float64\n",
       "tweet_sentiment_impact3    float64\n",
       "tweet_sentiment_impact4    float64\n",
       "tweet_sentiment_impact5    float64\n",
       "social_score               float64\n",
       "average_sentiment          float64\n",
       "news                       float64\n",
       "price_score                float64\n",
       "social_impact_score        float64\n",
       "correlation_rank           float64\n",
       "galaxy_score               float64\n",
       "volatility                 float64\n",
       "market_cap_rank            float64\n",
       "percent_change_24h_rank    float64\n",
       "volume_24h_rank            float64\n",
       "social_volume_24h_rank     float64\n",
       "social_score_24h_rank      float64\n",
       "medium                     float64\n",
       "youtube                    float64\n",
       "social_volume                int64\n",
       "percent_change_24h         float64\n",
       "market_cap_global          float64\n",
       "dtype: object"
      ]
     },
     "execution_count": 6,
     "metadata": {},
     "output_type": "execute_result"
    }
   ],
   "source": [
    "test.dtypes"
   ]
  },
  {
   "cell_type": "code",
   "execution_count": 7,
   "id": "383b99cd",
   "metadata": {
    "execution": {
     "iopub.execute_input": "2021-11-29T22:23:32.446581Z",
     "iopub.status.busy": "2021-11-29T22:23:32.445724Z",
     "iopub.status.idle": "2021-11-29T22:23:32.449298Z",
     "shell.execute_reply": "2021-11-29T22:23:32.449833Z",
     "shell.execute_reply.started": "2021-11-29T22:12:16.883664Z"
    },
    "id": "T4tqzRGccpnU",
    "outputId": "7a55f88f-e838-4f02-bbfd-7b915227cfbe",
    "papermill": {
     "duration": 0.030649,
     "end_time": "2021-11-29T22:23:32.450010",
     "exception": false,
     "start_time": "2021-11-29T22:23:32.419361",
     "status": "completed"
    },
    "tags": []
   },
   "outputs": [
    {
     "data": {
      "text/html": [
       "<div>\n",
       "<style scoped>\n",
       "    .dataframe tbody tr th:only-of-type {\n",
       "        vertical-align: middle;\n",
       "    }\n",
       "\n",
       "    .dataframe tbody tr th {\n",
       "        vertical-align: top;\n",
       "    }\n",
       "\n",
       "    .dataframe thead th {\n",
       "        text-align: right;\n",
       "    }\n",
       "</style>\n",
       "<table border=\"1\" class=\"dataframe\">\n",
       "  <thead>\n",
       "    <tr style=\"text-align: right;\">\n",
       "      <th></th>\n",
       "      <th>id</th>\n",
       "      <th>close</th>\n",
       "    </tr>\n",
       "  </thead>\n",
       "  <tbody>\n",
       "    <tr>\n",
       "      <th>0</th>\n",
       "      <td>ID_JZZnaV</td>\n",
       "      <td>0</td>\n",
       "    </tr>\n",
       "    <tr>\n",
       "      <th>1</th>\n",
       "      <td>ID_JZdah4</td>\n",
       "      <td>0</td>\n",
       "    </tr>\n",
       "    <tr>\n",
       "      <th>2</th>\n",
       "      <td>ID_Jb3VHp</td>\n",
       "      <td>0</td>\n",
       "    </tr>\n",
       "    <tr>\n",
       "      <th>3</th>\n",
       "      <td>ID_Jc4znH</td>\n",
       "      <td>0</td>\n",
       "    </tr>\n",
       "    <tr>\n",
       "      <th>4</th>\n",
       "      <td>ID_Jc7U7d</td>\n",
       "      <td>0</td>\n",
       "    </tr>\n",
       "  </tbody>\n",
       "</table>\n",
       "</div>"
      ],
      "text/plain": [
       "          id  close\n",
       "0  ID_JZZnaV      0\n",
       "1  ID_JZdah4      0\n",
       "2  ID_Jb3VHp      0\n",
       "3  ID_Jc4znH      0\n",
       "4  ID_Jc7U7d      0"
      ]
     },
     "execution_count": 7,
     "metadata": {},
     "output_type": "execute_result"
    }
   ],
   "source": [
    "ss.head()"
   ]
  },
  {
   "cell_type": "markdown",
   "id": "70843294",
   "metadata": {
    "id": "m7PmKG0OeHBC",
    "papermill": {
     "duration": 0.017695,
     "end_time": "2021-11-29T22:23:32.485792",
     "exception": false,
     "start_time": "2021-11-29T22:23:32.468097",
     "status": "completed"
    },
    "tags": []
   },
   "source": [
    "# Let's look for missing values"
   ]
  },
  {
   "cell_type": "code",
   "execution_count": 8,
   "id": "27c1b5b3",
   "metadata": {
    "execution": {
     "iopub.execute_input": "2021-11-29T22:23:32.526874Z",
     "iopub.status.busy": "2021-11-29T22:23:32.526143Z",
     "iopub.status.idle": "2021-11-29T22:23:33.831160Z",
     "shell.execute_reply": "2021-11-29T22:23:33.831718Z",
     "shell.execute_reply.started": "2021-11-29T22:12:16.897737Z"
    },
    "id": "0YgW1BBvd7l9",
    "outputId": "f97cee11-9c0a-4db0-85ae-9c3ec0bc5a84",
    "papermill": {
     "duration": 1.328136,
     "end_time": "2021-11-29T22:23:33.831896",
     "exception": false,
     "start_time": "2021-11-29T22:23:32.503760",
     "status": "completed"
    },
    "tags": []
   },
   "outputs": [
    {
     "data": {
      "image/png": "[encoded data removed]",
      "text/plain": [
       "<Figure size 648x720 with 1 Axes>"
      ]
     },
     "metadata": {
      "needs_background": "light"
     },
     "output_type": "display_data"
    }
   ],
   "source": [
    "# Check if there any missing values in train set\n",
    "ax = train.isna().sum().sort_values().plot(kind = 'barh', figsize = (9, 10))\n",
    "plt.title('Percentage of Missing Values Per Column in Train Set', fontdict={'size':15})\n",
    "for p in ax.patches:\n",
    "    percentage ='{:,.0f}%'.format((p.get_width()/train.shape[0])*100)\n",
    "    width, height =p.get_width(),p.get_height()\n",
    "    x=p.get_x()+width+0.02\n",
    "    y=p.get_y()+height/2\n",
    "    ax.annotate(percentage,(x,y))"
   ]
  },
  {
   "cell_type": "code",
   "execution_count": 9,
   "id": "64ebc24d",
   "metadata": {
    "execution": {
     "iopub.execute_input": "2021-11-29T22:23:33.881153Z",
     "iopub.status.busy": "2021-11-29T22:23:33.880382Z",
     "iopub.status.idle": "2021-11-29T22:23:34.970145Z",
     "shell.execute_reply": "2021-11-29T22:23:34.970693Z",
     "shell.execute_reply.started": "2021-11-29T22:12:18.211962Z"
    },
    "id": "eBzu4neOeFDt",
    "outputId": "18ec60cc-cd08-4cb5-a272-0c062a593f6c",
    "papermill": {
     "duration": 1.119427,
     "end_time": "2021-11-29T22:23:34.970869",
     "exception": false,
     "start_time": "2021-11-29T22:23:33.851442",
     "status": "completed"
    },
    "tags": []
   },
   "outputs": [
    {
     "data": {
      "image/png": "[encoded data removed]",
      "text/plain": [
       "<Figure size 648x720 with 1 Axes>"
      ]
     },
     "metadata": {
      "needs_background": "light"
     },
     "output_type": "display_data"
    }
   ],
   "source": [
    "# Check if there missing values in test set\n",
    "ax = test.isna().sum().sort_values().plot(kind = 'barh', figsize = (9, 10))\n",
    "plt.title('Percentage of Missing Values Per Column in Test Set', fontdict={'size':15})\n",
    "\n",
    "for p in ax.patches:\n",
    "    percentage ='{:,.1f}%'.format((p.get_width()/test.shape[0])*100)\n",
    "    width, height =p.get_width(),p.get_height()\n",
    "    x=p.get_x()+width+0.02\n",
    "    y=p.get_y()+height/2\n",
    "    ax.annotate(percentage,(x,y))"
   ]
  },
  {
   "cell_type": "code",
   "execution_count": 10,
   "id": "0ba10eb3",
   "metadata": {
    "execution": {
     "iopub.execute_input": "2021-11-29T22:23:35.020739Z",
     "iopub.status.busy": "2021-11-29T22:23:35.020006Z",
     "iopub.status.idle": "2021-11-29T22:23:35.027946Z",
     "shell.execute_reply": "2021-11-29T22:23:35.027363Z",
     "shell.execute_reply.started": "2021-11-29T22:12:19.37837Z"
    },
    "id": "NvMm4aMlb59g",
    "papermill": {
     "duration": 0.035854,
     "end_time": "2021-11-29T22:23:35.028139",
     "exception": false,
     "start_time": "2021-11-29T22:23:34.992285",
     "status": "completed"
    },
    "tags": []
   },
   "outputs": [],
   "source": [
    "# fill missing values\n",
    "train = train.fillna(0)\n",
    "test = test.fillna(0)"
   ]
  },
  {
   "cell_type": "code",
   "execution_count": 11,
   "id": "3d728da1",
   "metadata": {
    "execution": {
     "iopub.execute_input": "2021-11-29T22:23:35.076635Z",
     "iopub.status.busy": "2021-11-29T22:23:35.075929Z",
     "iopub.status.idle": "2021-11-29T22:23:35.126706Z",
     "shell.execute_reply": "2021-11-29T22:23:35.125997Z",
     "shell.execute_reply.started": "2021-11-29T22:12:19.389769Z"
    },
    "id": "u_PUS8MxeNRU",
    "outputId": "8de62541-5c2f-49f8-bd28-45c09b9d2f75",
    "papermill": {
     "duration": 0.077239,
     "end_time": "2021-11-29T22:23:35.126852",
     "exception": false,
     "start_time": "2021-11-29T22:23:35.049613",
     "status": "completed"
    },
    "tags": []
   },
   "outputs": [
    {
     "data": {
      "text/plain": [
       "(False, False)"
      ]
     },
     "execution_count": 11,
     "metadata": {},
     "output_type": "execute_result"
    }
   ],
   "source": [
    "# Check for duplicates\n",
    "train.duplicated().any(), test.duplicated().any()"
   ]
  },
  {
   "cell_type": "code",
   "execution_count": 12,
   "id": "f05fe275",
   "metadata": {
    "execution": {
     "iopub.execute_input": "2021-11-29T22:23:35.180700Z",
     "iopub.status.busy": "2021-11-29T22:23:35.179986Z",
     "iopub.status.idle": "2021-11-29T22:23:35.191117Z",
     "shell.execute_reply": "2021-11-29T22:23:35.191660Z",
     "shell.execute_reply.started": "2021-11-29T22:12:19.442638Z"
    },
    "id": "6odSlKUfGgCU",
    "papermill": {
     "duration": 0.041839,
     "end_time": "2021-11-29T22:23:35.191858",
     "exception": false,
     "start_time": "2021-11-29T22:23:35.150019",
     "status": "completed"
    },
    "tags": []
   },
   "outputs": [],
   "source": [
    "# Select main columns to be used in training\n",
    "main_cols = train.columns.difference(['id', 'close'])\n",
    "X = train[main_cols]\n",
    "y = train.close.astype(float)\n",
    "\n",
    "# Split data into train and test sets\n",
    "X_train, X_test, y_train, y_test = train_test_split(X,y,test_size=0.3, random_state=42)"
   ]
  },
  {
   "cell_type": "code",
   "execution_count": 13,
   "id": "5f0ac8a9",
   "metadata": {
    "execution": {
     "iopub.execute_input": "2021-11-29T22:23:35.243544Z",
     "iopub.status.busy": "2021-11-29T22:23:35.242847Z",
     "iopub.status.idle": "2021-11-29T22:23:35.283985Z",
     "shell.execute_reply": "2021-11-29T22:23:35.284802Z",
     "shell.execute_reply.started": "2021-11-29T22:12:19.459123Z"
    },
    "id": "UsxxFFp-hatQ",
    "papermill": {
     "duration": 0.070559,
     "end_time": "2021-11-29T22:23:35.285148",
     "exception": false,
     "start_time": "2021-11-29T22:23:35.214589",
     "status": "completed"
    },
    "tags": []
   },
   "outputs": [],
   "source": [
    "# Instantiate model\n",
    "lm2 = LinearRegression()\n",
    "# Fit Model\n",
    "lm2.fit(X_train, y_train)\n",
    "# Predict\n",
    "y_pred = lm2.predict(X_test)"
   ]
  },
  {
   "cell_type": "code",
   "execution_count": 14,
   "id": "143bc1b3",
   "metadata": {
    "execution": {
     "iopub.execute_input": "2021-11-29T22:23:35.377602Z",
     "iopub.status.busy": "2021-11-29T22:23:35.376298Z",
     "iopub.status.idle": "2021-11-29T22:23:35.414623Z",
     "shell.execute_reply": "2021-11-29T22:23:35.415624Z",
     "shell.execute_reply.started": "2021-11-29T22:12:19.507269Z"
    },
    "id": "llaGERIUGpua",
    "papermill": {
     "duration": 0.089721,
     "end_time": "2021-11-29T22:23:35.415910",
     "exception": false,
     "start_time": "2021-11-29T22:23:35.326189",
     "status": "completed"
    },
    "tags": []
   },
   "outputs": [],
   "source": [
    "# Make predictions in test set and prepare submission file\n",
    "predictions = lm2.predict(test[main_cols])\n",
    "sub_file = ss.copy()\n",
    "sub_file.close = predictions\n",
    "sub_file.to_csv('Baseline.csv', index = False)"
   ]
  },
  {
   "cell_type": "code",
   "execution_count": 15,
   "id": "7e17b14b",
   "metadata": {
    "execution": {
     "iopub.execute_input": "2021-11-29T22:23:35.510002Z",
     "iopub.status.busy": "2021-11-29T22:23:35.508962Z",
     "iopub.status.idle": "2021-11-29T22:23:35.515230Z",
     "shell.execute_reply": "2021-11-29T22:23:35.515810Z",
     "shell.execute_reply.started": "2021-11-29T22:12:19.54312Z"
    },
    "id": "gssHYRfUjW6H",
    "outputId": "24edb8cf-8c43-4528-99b7-6d7a7fba3626",
    "papermill": {
     "duration": 0.054578,
     "end_time": "2021-11-29T22:23:35.515987",
     "exception": false,
     "start_time": "2021-11-29T22:23:35.461409",
     "status": "completed"
    },
    "tags": []
   },
   "outputs": [
    {
     "data": {
      "text/html": [
       "<div>\n",
       "<style scoped>\n",
       "    .dataframe tbody tr th:only-of-type {\n",
       "        vertical-align: middle;\n",
       "    }\n",
       "\n",
       "    .dataframe tbody tr th {\n",
       "        vertical-align: top;\n",
       "    }\n",
       "\n",
       "    .dataframe thead th {\n",
       "        text-align: right;\n",
       "    }\n",
       "</style>\n",
       "<table border=\"1\" class=\"dataframe\">\n",
       "  <thead>\n",
       "    <tr style=\"text-align: right;\">\n",
       "      <th></th>\n",
       "      <th>id</th>\n",
       "      <th>close</th>\n",
       "    </tr>\n",
       "  </thead>\n",
       "  <tbody>\n",
       "    <tr>\n",
       "      <th>0</th>\n",
       "      <td>ID_JZZnaV</td>\n",
       "      <td>48803.265787</td>\n",
       "    </tr>\n",
       "    <tr>\n",
       "      <th>1</th>\n",
       "      <td>ID_JZdah4</td>\n",
       "      <td>7111.230816</td>\n",
       "    </tr>\n",
       "    <tr>\n",
       "      <th>2</th>\n",
       "      <td>ID_Jb3VHp</td>\n",
       "      <td>7376.639850</td>\n",
       "    </tr>\n",
       "    <tr>\n",
       "      <th>3</th>\n",
       "      <td>ID_Jc4znH</td>\n",
       "      <td>8008.376656</td>\n",
       "    </tr>\n",
       "    <tr>\n",
       "      <th>4</th>\n",
       "      <td>ID_Jc7U7d</td>\n",
       "      <td>10770.866794</td>\n",
       "    </tr>\n",
       "  </tbody>\n",
       "</table>\n",
       "</div>"
      ],
      "text/plain": [
       "          id         close\n",
       "0  ID_JZZnaV  48803.265787\n",
       "1  ID_JZdah4   7111.230816\n",
       "2  ID_Jb3VHp   7376.639850\n",
       "3  ID_Jc4znH   8008.376656\n",
       "4  ID_Jc7U7d  10770.866794"
      ]
     },
     "execution_count": 15,
     "metadata": {},
     "output_type": "execute_result"
    }
   ],
   "source": [
    "sub_file.head()"
   ]
  },
  {
   "cell_type": "code",
   "execution_count": 16,
   "id": "9536e9c4",
   "metadata": {
    "execution": {
     "iopub.execute_input": "2021-11-29T22:23:35.563890Z",
     "iopub.status.busy": "2021-11-29T22:23:35.562915Z",
     "iopub.status.idle": "2021-11-29T22:23:35.567590Z",
     "shell.execute_reply": "2021-11-29T22:23:35.567006Z",
     "shell.execute_reply.started": "2021-11-29T22:12:19.557109Z"
    },
    "id": "kPMUtBiMjnAy",
    "outputId": "41528c62-36dd-4553-c27c-0aed39fe319a",
    "papermill": {
     "duration": 0.02957,
     "end_time": "2021-11-29T22:23:35.567738",
     "exception": false,
     "start_time": "2021-11-29T22:23:35.538168",
     "status": "completed"
    },
    "tags": []
   },
   "outputs": [],
   "source": [
    "# files.download('Baseline.csv') "
   ]
  }
 ],
 "metadata": {
  "kernelspec": {
   "display_name": "Python 3",
   "language": "python",
   "name": "python3"
  },
  "language_info": {
   "codemirror_mode": {
    "name": "ipython",
    "version": 3
   },
   "file_extension": ".py",
   "mimetype": "text/x-python",
   "name": "python",
   "nbconvert_exporter": "python",
   "pygments_lexer": "ipython3",
   "version": "3.7.10"
  },
  "papermill": {
   "default_parameters": {},
   "duration": 15.616751,
   "end_time": "2021-11-29T22:23:36.300221",
   "environment_variables": {},
   "exception": null,
   "input_path": "__notebook__.ipynb",
   "output_path": "__notebook__.ipynb",
   "parameters": {},
   "start_time": "2021-11-29T22:23:20.683470",
   "version": "2.3.3"
  }
 },
 "nbformat": 4,
 "nbformat_minor": 5
}
